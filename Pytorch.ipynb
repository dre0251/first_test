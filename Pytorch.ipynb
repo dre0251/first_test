{
 "cells": [
  {
   "cell_type": "code",
   "id": "initial_id",
   "metadata": {
    "collapsed": true,
    "ExecuteTime": {
     "end_time": "2025-03-05T16:08:55.362231Z",
     "start_time": "2025-03-05T16:08:53.110322Z"
    }
   },
   "source": [
    "import copy\n",
    "import numpy as np\n",
    "import torch.nn as nn\n",
    "import torch\n",
    "import torch.optim as optim\n",
    "import matplotlib.pyplot as plt\n",
    "import math\n",
    "from torch.autograd import Variable\n",
    "import torch.nn.functional as F"
   ],
   "outputs": [],
   "execution_count": 3
  },
  {
   "metadata": {
    "ExecuteTime": {
     "end_time": "2025-03-05T16:37:38.825391Z",
     "start_time": "2025-03-05T16:37:38.581639Z"
    }
   },
   "cell_type": "code",
   "source": [
    "#数据预处理\n",
    "LEARNING_RATE = 0.1\n",
    "n_epochs = 100\n",
    "n_points = 10\n",
    "data = torch.rand(n_points, 2) * 2 - 1 \n",
    "labels = (data.norm(dim = 1) > 0.7).float.unsqueeze(1)\n",
    "\n",
    "device = \"cuda\" if torch.cuda.is_available() else \"cpu\"\n",
    "data.to(device)\n",
    "labels.to(device)\n",
    "\n",
    "#创建模型类\n",
    "class CircleClassifier(nn.Module):\n",
    "    def __init__(self):\n",
    "        super().__init__()\n",
    "        self.layer1 = nn.Linear(2,20)\n",
    "        self.layer2 = nn.Linear(20,1)\n",
    "    def forward(self, x):\n",
    "        x = torch.relu(self.layer1(x))\n",
    "        x = torch.sigmoid(self.layer2(x))\n",
    "        return x\n",
    "        \n",
    "#实例化\n",
    "model = CircleClassifier()\n",
    "model = model.to(device)\n",
    "loss_fn = nn.BCELoss()\n",
    "optimizer = optim.AdamW(model.parameters(), lr = LEARNING_RATE)\n",
    "\n",
    "for epoch in range(n_epochs):\n",
    "    optimizer.zero_grad() #梯度归零\n",
    "    predictions = model(data)\n",
    "    loss = loss_fn(predictions, labels)\n",
    "    optimizer.step()\n",
    "    \n",
    "    if epoch % 20 == 0:\n",
    "        print(f\"Epoch {epoch}, Loss: {loss.item(): .4f}\")\n",
    "    \n",
    "\n",
    "\n",
    "\n",
    "\n"
   ],
   "id": "197e1f0e10941a64",
   "outputs": [
    {
     "ename": "AttributeError",
     "evalue": "'builtin_function_or_method' object has no attribute 'unsqueeze'",
     "output_type": "error",
     "traceback": [
      "\u001B[1;31m---------------------------------------------------------------------------\u001B[0m",
      "\u001B[1;31mAttributeError\u001B[0m                            Traceback (most recent call last)",
      "Cell \u001B[1;32mIn[10], line 6\u001B[0m\n\u001B[0;32m      4\u001B[0m n_points \u001B[38;5;241m=\u001B[39m \u001B[38;5;241m10\u001B[39m\n\u001B[0;32m      5\u001B[0m data \u001B[38;5;241m=\u001B[39m torch\u001B[38;5;241m.\u001B[39mrand(n_points, \u001B[38;5;241m2\u001B[39m) \u001B[38;5;241m*\u001B[39m \u001B[38;5;241m2\u001B[39m \u001B[38;5;241m-\u001B[39m \u001B[38;5;241m1\u001B[39m \n\u001B[1;32m----> 6\u001B[0m labels \u001B[38;5;241m=\u001B[39m \u001B[43m(\u001B[49m\u001B[43mdata\u001B[49m\u001B[38;5;241;43m.\u001B[39;49m\u001B[43mnorm\u001B[49m\u001B[43m(\u001B[49m\u001B[43mdim\u001B[49m\u001B[43m \u001B[49m\u001B[38;5;241;43m=\u001B[39;49m\u001B[43m \u001B[49m\u001B[38;5;241;43m1\u001B[39;49m\u001B[43m)\u001B[49m\u001B[43m \u001B[49m\u001B[38;5;241;43m>\u001B[39;49m\u001B[43m \u001B[49m\u001B[38;5;241;43m0.7\u001B[39;49m\u001B[43m)\u001B[49m\u001B[38;5;241;43m.\u001B[39;49m\u001B[43mfloat\u001B[49m\u001B[38;5;241;43m.\u001B[39;49m\u001B[43munsqueeze\u001B[49m(\u001B[38;5;241m1\u001B[39m)\n\u001B[0;32m      8\u001B[0m \u001B[38;5;66;03m#创建模型类\u001B[39;00m\n\u001B[0;32m      9\u001B[0m \u001B[38;5;28;01mclass\u001B[39;00m \u001B[38;5;21;01mCircleClassifier\u001B[39;00m(nn\u001B[38;5;241m.\u001B[39mModule):\n",
      "\u001B[1;31mAttributeError\u001B[0m: 'builtin_function_or_method' object has no attribute 'unsqueeze'"
     ]
    }
   ],
   "execution_count": 10
  },
  {
   "metadata": {},
   "cell_type": "code",
   "outputs": [],
   "execution_count": null,
   "source": "",
   "id": "e1a73f4ad04ec34b"
  }
 ],
 "metadata": {
  "kernelspec": {
   "display_name": "Python 3",
   "language": "python",
   "name": "python3"
  },
  "language_info": {
   "codemirror_mode": {
    "name": "ipython",
    "version": 2
   },
   "file_extension": ".py",
   "mimetype": "text/x-python",
   "name": "python",
   "nbconvert_exporter": "python",
   "pygments_lexer": "ipython2",
   "version": "2.7.6"
  }
 },
 "nbformat": 4,
 "nbformat_minor": 5
}
